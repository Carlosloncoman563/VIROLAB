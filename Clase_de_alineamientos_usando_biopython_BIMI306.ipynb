{
  "nbformat": 4,
  "nbformat_minor": 0,
  "metadata": {
    "colab": {
      "provenance": [],
      "authorship_tag": "ABX9TyM7WpYr83se9cCvdXy2ZwHV",
      "include_colab_link": true
    },
    "kernelspec": {
      "name": "python3",
      "display_name": "Python 3"
    },
    "language_info": {
      "name": "python"
    }
  },
  "cells": [
    {
      "cell_type": "markdown",
      "metadata": {
        "id": "view-in-github",
        "colab_type": "text"
      },
      "source": [
        "<a href=\"https://colab.research.google.com/github/Carlosloncoman563/VIROLAB/blob/master/Clase_de_alineamientos_usando_biopython_BIMI306.ipynb\" target=\"_parent\"><img src=\"https://colab.research.google.com/assets/colab-badge.svg\" alt=\"Open In Colab\"/></a>"
      ]
    },
    {
      "cell_type": "code",
      "source": [
        "##Como en otros practicos primero debemos instalar biopython en nuestra consola\n",
        "!pip install biopython==1.77\n"
      ],
      "metadata": {
        "colab": {
          "base_uri": "https://localhost:8080/"
        },
        "id": "dgLH4xsOK_Ts",
        "outputId": "8d3f46c8-dfa3-4a91-8491-2878b586aa20"
      },
      "execution_count": null,
      "outputs": [
        {
          "output_type": "stream",
          "name": "stdout",
          "text": [
            "Collecting biopython==1.77\n",
            "  Downloading biopython-1.77.tar.gz (16.8 MB)\n",
            "\u001b[2K     \u001b[90m━━━━━━━━━━━━━━━━━━━━━━━━━━━━━━━━━━━━━━━━\u001b[0m \u001b[32m16.8/16.8 MB\u001b[0m \u001b[31m76.8 MB/s\u001b[0m eta \u001b[36m0:00:00\u001b[0m\n",
            "\u001b[?25h  Preparing metadata (setup.py) ... \u001b[?25l\u001b[?25hdone\n",
            "Requirement already satisfied: numpy in /usr/local/lib/python3.10/dist-packages (from biopython==1.77) (1.22.4)\n",
            "Building wheels for collected packages: biopython\n",
            "  Building wheel for biopython (setup.py) ... \u001b[?25l\u001b[?25hdone\n",
            "  Created wheel for biopython: filename=biopython-1.77-cp310-cp310-linux_x86_64.whl size=2573504 sha256=3a65309bd3afd15ea2b3d0e20c4a433fcfa8f09682935cd2580181e5c3d7fb3d\n",
            "  Stored in directory: /root/.cache/pip/wheels/0f/a7/7c/44aec3c54ec381410beefaf769977846cba2dcbad3a4ab5ebb\n",
            "Successfully built biopython\n",
            "Installing collected packages: biopython\n",
            "Successfully installed biopython-1.77\n"
          ]
        }
      ]
    },
    {
      "cell_type": "code",
      "source": [
        "##Podria ser util tener el google drive montado en la consola tambien.\n",
        "##para cargar alineamientos hechos previamente o descargados desde NCBI, por ejemplo.\n",
        "from google.colab import drive\n",
        "drive.mount('/content/drive')\n"
      ],
      "metadata": {
        "colab": {
          "base_uri": "https://localhost:8080/"
        },
        "id": "rW_cMwRW5avf",
        "outputId": "272ab001-2071-49b3-df9c-57766d0090d2"
      },
      "execution_count": null,
      "outputs": [
        {
          "output_type": "stream",
          "name": "stdout",
          "text": [
            "Mounted at /content/drive\n"
          ]
        }
      ]
    },
    {
      "cell_type": "code",
      "source": [
        "##Alineamiento pairwise de dos secuencias\n",
        "from Bio import Align\n",
        "aligner = Align.PairwiseAligner()\n",
        "alignments = aligner.align(\"TATACATTAAAGGAGGGGGATGCGGGAATCTAAATGATATAGGACAGATCCTCCGGCTGTATGAATACAGAGGATGTCATCTAAAAAA\", \"GAAGAAACTCTCATGTCCGGTTCTGTAGTAGAGATGGAATTAAGAAAAAACCATCAACTATAACCCCAAAAGAACCAGA\")\n",
        "\n",
        "print(alignment)"
      ],
      "metadata": {
        "colab": {
          "base_uri": "https://localhost:8080/"
        },
        "id": "tW5dpYKf-fEF",
        "outputId": "36314af7-6468-4512-ca25-f19b08f0820d"
      },
      "execution_count": 88,
      "outputs": [
        {
          "output_type": "stream",
          "name": "stdout",
          "text": [
            "TTCAATTAAAATTAACTATAACCC---------------CAAAAGAACC---\n",
            "|-|||||----|||-|||||||||---------------||||||||||---\n",
            "T-CAATT----TTA-CTATAACCCAGAGAGAGAGAGAGACAAAAGAACCAGA\n",
            "\n"
          ]
        }
      ]
    },
    {
      "cell_type": "code",
      "source": [
        " ##Alineamientos multiples\n",
        "from Bio.Alphabet import generic_dna\n",
        "from Bio.Seq import Seq\n",
        "from Bio.SeqRecord import SeqRecord\n",
        "from Bio.Align import MultipleSeqAlignment\n",
        "alineamientobimi306 = MultipleSeqAlignment([\n",
        "                               SeqRecord(Seq(\"TCCAAATATAAAAATATCTAATAAATTAGATGAATATCAAAGAATCTATTGATTTAGTGTATTATTAAATGTATATATTAATTCAATATTATTATTCTATTCATTTTTATTCATTTTCAAATTTATAATATATTAATCTATATATTAATTTAGAATTCTATTCTAATTCGAATTCAATTTTTAAATATTCATATTCAATTAAAATTGAAATTTTTTCATTCGCGAGGAGCCGGATGAGAAGAAACTCTCATGTCCGGTTCTGTAGTAGAGATGGAATTAAGAAAAAACCATCAACTATAACCCCAAAAGAACC\", generic_dna), id=\"Proteina viral estructural 1\"),\n",
        "                               SeqRecord(Seq(\"TAAAGACTAAGAGGGTTGGCTCAAGAACAAAGTTCATTAAGAGCTCCATTGTAGAATTCAGACCTAATCATTAATCAAGAAGCGATGGGAACGATGTAATCCATGAATACAGAAGATTCAATTGAAAAAGATCCTAATGNTNCATTGGGAAGGATGGCGGAACGAACCAGAGACCAATTCATCTATTCTGAAAAGTGATAAACTAATCCTATAAAACTAAAATAGATATTGAAAGAGTAAATATTCGCCCGCGAAAATTCCTTTTTTATTAAATTGCTCATATTTTCTTTTAGCAATGCAATCTAATAAAATA\", generic_dna), id=\"Proteina viral estructural 1.1\"),\n",
        "                               SeqRecord(Seq(\"GATCCTATGNTCATTGGAAGGATGGCGGAACGAACCAGAGACCAATTCATCTATTCTGAAAAGTGATAAACTAATCCTATAAAACTAAAATAGATATTGAAAGAGTAAATATTCGCCCGCGAAAATTCCTTTTTTATTAAATTGCTCATATTTTCTTTTAGCAATGCAATCTAATAAAATATATCTATACAAAAAAACATAGACAAACTATATATATATATATATATAATATATTTCAAATTCCCTTATATATCCAAATATAAAAATATTTGATTTAGTGTATTATTAAATGTATATATTAATTCAATATGTC\", generic_dna), id=\"Proteina viral estructural 1.2\"),\n",
        "                               SeqRecord(Seq(\"TATACATTAAAGGAGGGGGATGCGGATAAATGGAAAGGCGAAAGAAAGAAAAAAATGAATCTAAATGATATAGGATTCCACTATGTAAGGTCTTTGAATCATATCATAAAAGACAATGTAATAAAGCATGAATACAGATTCACACATAATTATCTGATATGAATCTATTCATAGAAAAAAGAAAAAAGTAAGAGCCTCCGGCCAATAAAGACTAAGAGGGTTGGCTCAAGAACAAAGTTCATTAAGAGCTCCATTGTAGAATTCAAGATGGAATTAAGAAAAAACCATCAACTATAACCCCAAAAGAACCAGA\", generic_dna), id=\"Proteina viral estructural 1.3\"),\n",
        "                               SeqRecord(Seq(\"TATACAATTAGATGAATATCAAAGAATCTATTGATTTAGTATATTATTAAATGTATATATTAATTCAATATTATTATTCTATTCATTTTTATTCATTTTCAAATTTATAATATATTAATCTATATATTAATTTAGAATTCTATTCTAATTCGAATTCAATTTTTAAATATTCATATTCAATTAAAATTGAAATTTTTTCATTCGCGAGGAGCCGGATGAGAAGAAACTCTCATGTCCGGTTCTGTAGTAGAGATGGAATTAAGAAAAAACCATCAACTATAACCCAGAGAGAGAGAGAGACAAAAGAACCAGA\", generic_dna), id=\"Proteina viral estructural 1.4\"),])\n",
        "print(alineamientobimi306)\n"
      ],
      "metadata": {
        "colab": {
          "base_uri": "https://localhost:8080/"
        },
        "id": "iaz3fORBDNyL",
        "outputId": "52a68e40-9775-4001-829f-b6f76d13d073"
      },
      "execution_count": 28,
      "outputs": [
        {
          "output_type": "stream",
          "name": "stdout",
          "text": [
            "DNAAlphabet() alignment with 5 rows and 313 columns\n",
            "TCCAAATATAAAAATATCTAATAAATTAGATGAATATCAAAGAA...ACC Proteina viral estructural 1\n",
            "TAAAGACTAAGAGGGTTGGCTCAAGAACAAAGTTCATTAAGAGC...ATA Proteina viral estructural 1.1\n",
            "GATCCTATGNTCATTGGAAGGATGGCGGAACGAACCAGAGACCA...GTC Proteina viral estructural 1.2\n",
            "TATACATTAAAGGAGGGGGATGCGGATAAATGGAAAGGCGAAAG...AGA Proteina viral estructural 1.3\n",
            "TATACAATTAGATGAATATCAAAGAATCTATTGATTTAGTATAT...AGA Proteina viral estructural 1.4\n"
          ]
        }
      ]
    },
    {
      "cell_type": "code",
      "source": [
        "##Para crear un alineamiento pairwise primero se debe crear un objeto llamado PairwiseAligner\n",
        "##Ese objeto almacenara los match, mismatch y los gap scores (3 tipos de score)\n",
        "##Normalmente los match scores son positivos, mientras que los mismatch y los gap scores son negativos o con valor 0 (cero)\n",
        "from Bio import Align\n",
        "aligner = Align.PairwiseAligner()\n",
        "alignments = aligner.align(\"TTCAATTAAAATTAACTATAACCCCAAAAGAACC\", \"TCAATTTTACTATAACCCAGAGAGAGAGAGAGACAAAAGAACCAGA\")\n",
        "for alignment in sorted(alignments):\n",
        "  print(\"Score = %.1f:\" % alignment.score)\n",
        "  print(alignment)"
      ],
      "metadata": {
        "colab": {
          "base_uri": "https://localhost:8080/"
        },
        "id": "qcdy1HpcL6Ob",
        "outputId": "5ce529aa-e49d-4bb7-d599-d318eb75aed0"
      },
      "execution_count": 80,
      "outputs": [
        {
          "output_type": "stream",
          "name": "stdout",
          "text": [
            "Score = 28.0:\n",
            "TTCAATTAAAATTAACTATAACCC---------------CAAAAGAACC---\n",
            "-||||||----||-||||||||||---------------||||||||||---\n",
            "-TCAATT----TT-ACTATAACCCAGAGAGAGAGAGAGACAAAAGAACCAGA\n",
            "\n",
            "Score = 28.0:\n",
            "TTCAATTAAAATTAACTATAACCC---------------CAAAAGAACC---\n",
            "-||||||----|||-|||||||||---------------||||||||||---\n",
            "-TCAATT----TTA-CTATAACCCAGAGAGAGAGAGAGACAAAAGAACCAGA\n",
            "\n",
            "Score = 28.0:\n",
            "TTCAATTAAAATTAACTATAACCC---------------CAAAAGAACC---\n",
            "|-|||||----||-||||||||||---------------||||||||||---\n",
            "T-CAATT----TT-ACTATAACCCAGAGAGAGAGAGAGACAAAAGAACCAGA\n",
            "\n",
            "Score = 28.0:\n",
            "TTCAATTAAAATTAACTATAACCC---------------CAAAAGAACC---\n",
            "|-|||||----|||-|||||||||---------------||||||||||---\n",
            "T-CAATT----TTA-CTATAACCCAGAGAGAGAGAGAGACAAAAGAACCAGA\n",
            "\n"
          ]
        }
      ]
    },
    {
      "cell_type": "code",
      "source": [
        "##Un alineamiento local solo va a encontrar las subsecuencias que se alinean mejor\n",
        "##comparando las secuencias completamente. Ademas uno puede definir el aligner.mode\n",
        "aligner.mode = 'local'\n",
        "alignments = aligner.align(\"TACCG\", \"ACG\")\n",
        "for alignment in sorted(alignments):\n",
        "  print(\"Score = %.1f:\" % alignment.score)\n",
        "  print(alignment)"
      ],
      "metadata": {
        "colab": {
          "base_uri": "https://localhost:8080/"
        },
        "id": "ZhvHCT-uMwQ3",
        "outputId": "49a95b57-8289-4e8c-c0ce-f334f1dc6ab4"
      },
      "execution_count": 34,
      "outputs": [
        {
          "output_type": "stream",
          "name": "stdout",
          "text": [
            "Score = 3.0:\n",
            "TACCG\n",
            " |-||\n",
            " A-CG\n",
            "\n",
            "Score = 3.0:\n",
            "TACCG\n",
            " ||-|\n",
            " AC-G\n",
            "\n"
          ]
        }
      ]
    },
    {
      "cell_type": "code",
      "source": [
        "##Un alineamiento global va a encontrar la mejor concordancia considerando todos los caracteres entre dos secuencias.\n",
        "##Además uno le puede otorgar un valor a los match y mismatch\n",
        "aligner.mode = 'global'\n",
        "aligner.match_score = 2\n",
        "aligner.mismatch_score = -1\n",
        "for alignment in aligner.align(\"TACCG\", \"ACG\"): print(\"Score = %.1f:\" % alignment.score)\n",
        "print(alignment)"
      ],
      "metadata": {
        "colab": {
          "base_uri": "https://localhost:8080/"
        },
        "id": "tE0SBpVFM6-X",
        "outputId": "2f8ad5a4-4c6c-41cc-ff3e-8185e8dad5f5"
      },
      "execution_count": 73,
      "outputs": [
        {
          "output_type": "stream",
          "name": "stdout",
          "text": [
            "Score = 6.0:\n",
            "Score = 6.0:\n",
            "TACCG\n",
            "-|-||\n",
            "-A-CG\n",
            "\n"
          ]
        }
      ]
    },
    {
      "cell_type": "code",
      "source": [
        "#Para configurar en un alineamiento el gap score se debe hacer lo siguiente:\n",
        "aligner.open_gap_score = -0.5\n",
        "aligner.extend_gap_score = -0.1\n",
        "aligner.target_end_gap_score = 0.0\n",
        "aligner.query_end_gap_score = 0.0\n",
        "for alignment in aligner.align(\"TACCG\", \"ACG\"):\n",
        "  print(\"Score = %.1f:\" % alignment.score)\n",
        "  print(alignment)"
      ],
      "metadata": {
        "colab": {
          "base_uri": "https://localhost:8080/"
        },
        "id": "jug6OvoEPkw4",
        "outputId": "1770ca7c-916d-4806-c125-60412ebb4c72"
      },
      "execution_count": 46,
      "outputs": [
        {
          "output_type": "stream",
          "name": "stdout",
          "text": [
            "Score = 18.5:\n",
            "TACCG\n",
            "-|-||\n",
            "-A-CG\n",
            "\n",
            "Score = 18.5:\n",
            "TACCG\n",
            "-||-|\n",
            "-AC-G\n",
            "\n"
          ]
        }
      ]
    },
    {
      "cell_type": "code",
      "source": [
        "##Para alinear aminoacidos se debe utilizar una matriz de substitution precalculada.\n",
        "##En este caso se utiliza por defecto la matriz \"BLOSUM62\", pero tambien existen otras:\n",
        "##tales como: 'BENNER22', 'BENNER6', 'BENNER74', 'BLOSUM45', 'BLOSUM50', 'BLOSUM62'\n",
        "\n",
        "from Bio.Align import substitution_matrices\n",
        "aligner = Align.PairwiseAligner()\n",
        "aligner.substitution_matrix = substitution_matrices.load(\"BENNER6\")\n",
        "alignments = aligner.align(\"KEVLAEVKL\", \"EVLA\")\n",
        "alignments = list(alignments)\n",
        "print(\"Number of alignments: %d\" % len(alignments))\n",
        "alignmentproteina = alignments[0]\n",
        "print(\"Score = %.1f\" % alignment.score)\n",
        "print(alignmentproteina)"
      ],
      "metadata": {
        "colab": {
          "base_uri": "https://localhost:8080/"
        },
        "id": "KvKxJvCwP2_2",
        "outputId": "8c9c464c-514b-4680-b679-46d40511f065"
      },
      "execution_count": 70,
      "outputs": [
        {
          "output_type": "stream",
          "name": "stdout",
          "text": [
            "Number of alignments: 1\n",
            "Score = 16.5\n",
            "KEVLAEVKL\n",
            "-||||----\n",
            "-EVLA----\n",
            "\n"
          ]
        }
      ]
    },
    {
      "cell_type": "code",
      "source": [
        "##Para poder aprender mas de alguna funcion o saber si corresponde a una funcion\n",
        "##se puede preguntar a la consola con el siguiente codigo\n",
        "substitution_matrices.load?"
      ],
      "metadata": {
        "id": "GIo7Eid-bdZI"
      },
      "execution_count": 53,
      "outputs": []
    },
    {
      "cell_type": "code",
      "source": [
        "##Para conocer la matriz con los valores de substitucion se puede ejecutar lo siguiente:\n",
        "matrix = substitution_matrices.load(\"BLOSUM62\")\n",
        "print(matrix)"
      ],
      "metadata": {
        "colab": {
          "base_uri": "https://localhost:8080/"
        },
        "id": "vlwYvEAVeh7G",
        "outputId": "4e7c9d46-d425-4aae-c5ca-f73b7af8d51e"
      },
      "execution_count": 63,
      "outputs": [
        {
          "output_type": "stream",
          "name": "stdout",
          "text": [
            "#  Matrix made by matblas from blosum62.iij\n",
            "#  * column uses minimum score\n",
            "#  BLOSUM Clustered Scoring Matrix in 1/2 Bit Units\n",
            "#  Blocks Database = /data/blocks_5.0/blocks.dat\n",
            "#  Cluster Percentage: >= 62\n",
            "#  Entropy =   0.6979, Expected =  -0.5209\n",
            "     A    R    N    D    C    Q    E    G    H    I    L    K    M    F    P    S    T    W    Y    V    B    Z    X    *\n",
            "A  4.0 -1.0 -2.0 -2.0  0.0 -1.0 -1.0  0.0 -2.0 -1.0 -1.0 -1.0 -1.0 -2.0 -1.0  1.0  0.0 -3.0 -2.0  0.0 -2.0 -1.0  0.0 -4.0\n",
            "R -1.0  5.0  0.0 -2.0 -3.0  1.0  0.0 -2.0  0.0 -3.0 -2.0  2.0 -1.0 -3.0 -2.0 -1.0 -1.0 -3.0 -2.0 -3.0 -1.0  0.0 -1.0 -4.0\n",
            "N -2.0  0.0  6.0  1.0 -3.0  0.0  0.0  0.0  1.0 -3.0 -3.0  0.0 -2.0 -3.0 -2.0  1.0  0.0 -4.0 -2.0 -3.0  3.0  0.0 -1.0 -4.0\n",
            "D -2.0 -2.0  1.0  6.0 -3.0  0.0  2.0 -1.0 -1.0 -3.0 -4.0 -1.0 -3.0 -3.0 -1.0  0.0 -1.0 -4.0 -3.0 -3.0  4.0  1.0 -1.0 -4.0\n",
            "C  0.0 -3.0 -3.0 -3.0  9.0 -3.0 -4.0 -3.0 -3.0 -1.0 -1.0 -3.0 -1.0 -2.0 -3.0 -1.0 -1.0 -2.0 -2.0 -1.0 -3.0 -3.0 -2.0 -4.0\n",
            "Q -1.0  1.0  0.0  0.0 -3.0  5.0  2.0 -2.0  0.0 -3.0 -2.0  1.0  0.0 -3.0 -1.0  0.0 -1.0 -2.0 -1.0 -2.0  0.0  3.0 -1.0 -4.0\n",
            "E -1.0  0.0  0.0  2.0 -4.0  2.0  5.0 -2.0  0.0 -3.0 -3.0  1.0 -2.0 -3.0 -1.0  0.0 -1.0 -3.0 -2.0 -2.0  1.0  4.0 -1.0 -4.0\n",
            "G  0.0 -2.0  0.0 -1.0 -3.0 -2.0 -2.0  6.0 -2.0 -4.0 -4.0 -2.0 -3.0 -3.0 -2.0  0.0 -2.0 -2.0 -3.0 -3.0 -1.0 -2.0 -1.0 -4.0\n",
            "H -2.0  0.0  1.0 -1.0 -3.0  0.0  0.0 -2.0  8.0 -3.0 -3.0 -1.0 -2.0 -1.0 -2.0 -1.0 -2.0 -2.0  2.0 -3.0  0.0  0.0 -1.0 -4.0\n",
            "I -1.0 -3.0 -3.0 -3.0 -1.0 -3.0 -3.0 -4.0 -3.0  4.0  2.0 -3.0  1.0  0.0 -3.0 -2.0 -1.0 -3.0 -1.0  3.0 -3.0 -3.0 -1.0 -4.0\n",
            "L -1.0 -2.0 -3.0 -4.0 -1.0 -2.0 -3.0 -4.0 -3.0  2.0  4.0 -2.0  2.0  0.0 -3.0 -2.0 -1.0 -2.0 -1.0  1.0 -4.0 -3.0 -1.0 -4.0\n",
            "K -1.0  2.0  0.0 -1.0 -3.0  1.0  1.0 -2.0 -1.0 -3.0 -2.0  5.0 -1.0 -3.0 -1.0  0.0 -1.0 -3.0 -2.0 -2.0  0.0  1.0 -1.0 -4.0\n",
            "M -1.0 -1.0 -2.0 -3.0 -1.0  0.0 -2.0 -3.0 -2.0  1.0  2.0 -1.0  5.0  0.0 -2.0 -1.0 -1.0 -1.0 -1.0  1.0 -3.0 -1.0 -1.0 -4.0\n",
            "F -2.0 -3.0 -3.0 -3.0 -2.0 -3.0 -3.0 -3.0 -1.0  0.0  0.0 -3.0  0.0  6.0 -4.0 -2.0 -2.0  1.0  3.0 -1.0 -3.0 -3.0 -1.0 -4.0\n",
            "P -1.0 -2.0 -2.0 -1.0 -3.0 -1.0 -1.0 -2.0 -2.0 -3.0 -3.0 -1.0 -2.0 -4.0  7.0 -1.0 -1.0 -4.0 -3.0 -2.0 -2.0 -1.0 -2.0 -4.0\n",
            "S  1.0 -1.0  1.0  0.0 -1.0  0.0  0.0  0.0 -1.0 -2.0 -2.0  0.0 -1.0 -2.0 -1.0  4.0  1.0 -3.0 -2.0 -2.0  0.0  0.0  0.0 -4.0\n",
            "T  0.0 -1.0  0.0 -1.0 -1.0 -1.0 -1.0 -2.0 -2.0 -1.0 -1.0 -1.0 -1.0 -2.0 -1.0  1.0  5.0 -2.0 -2.0  0.0 -1.0 -1.0  0.0 -4.0\n",
            "W -3.0 -3.0 -4.0 -4.0 -2.0 -2.0 -3.0 -2.0 -2.0 -3.0 -2.0 -3.0 -1.0  1.0 -4.0 -3.0 -2.0 11.0  2.0 -3.0 -4.0 -3.0 -2.0 -4.0\n",
            "Y -2.0 -2.0 -2.0 -3.0 -2.0 -1.0 -2.0 -3.0  2.0 -1.0 -1.0 -2.0 -1.0  3.0 -3.0 -2.0 -2.0  2.0  7.0 -1.0 -3.0 -2.0 -1.0 -4.0\n",
            "V  0.0 -3.0 -3.0 -3.0 -1.0 -2.0 -2.0 -3.0 -3.0  3.0  1.0 -2.0  1.0 -1.0 -2.0 -2.0  0.0 -3.0 -1.0  4.0 -3.0 -2.0 -1.0 -4.0\n",
            "B -2.0 -1.0  3.0  4.0 -3.0  0.0  1.0 -1.0  0.0 -3.0 -4.0  0.0 -3.0 -3.0 -2.0  0.0 -1.0 -4.0 -3.0 -3.0  4.0  1.0 -1.0 -4.0\n",
            "Z -1.0  0.0  0.0  1.0 -3.0  3.0  4.0 -2.0  0.0 -3.0 -3.0  1.0 -1.0 -3.0 -1.0  0.0 -1.0 -3.0 -2.0 -2.0  1.0  4.0 -1.0 -4.0\n",
            "X  0.0 -1.0 -1.0 -1.0 -2.0 -1.0 -1.0 -1.0 -1.0 -1.0 -1.0 -1.0 -1.0 -1.0 -2.0  0.0  0.0 -2.0 -1.0 -1.0 -1.0 -1.0 -1.0 -4.0\n",
            "* -4.0 -4.0 -4.0 -4.0 -4.0 -4.0 -4.0 -4.0 -4.0 -4.0 -4.0 -4.0 -4.0 -4.0 -4.0 -4.0 -4.0 -4.0 -4.0 -4.0 -4.0 -4.0 -4.0  1.0\n",
            "\n"
          ]
        }
      ]
    },
    {
      "cell_type": "code",
      "source": [
        "from Bio.Align.Applications import MuscleCommandline\n",
        "help(MuscleCommandline)"
      ],
      "metadata": {
        "id": "I5ye7rgOLLIx"
      },
      "execution_count": null,
      "outputs": []
    },
    {
      "cell_type": "code",
      "source": [
        "from Bio.Align.Applications import MuscleCommandline\n",
        ">>> cline = MuscleCommandline(input=\"/content/drive/MyDrive/BIMI306/Alineamiento/Alineamiento.fasta\", out=\"/content/drive/MyDrive/BIMI306/Alineamiento/Alineamiento2.txt\")\n",
        ">>> print(cline)\n",
        "\n",
        "\n",
        "\n",
        "\n",
        "\n",
        "\n"
      ],
      "metadata": {
        "colab": {
          "base_uri": "https://localhost:8080/"
        },
        "id": "nPxZTA3EumAM",
        "outputId": "4b8931e9-eab2-45db-c9cf-9a5732f7fb1c"
      },
      "execution_count": 65,
      "outputs": [
        {
          "output_type": "stream",
          "name": "stdout",
          "text": [
            "muscle -in /content/drive/MyDrive/BIMI306/Alineamiento/Alineamiento.fasta -out /content/drive/MyDrive/BIMI306/Alineamiento/Alineamiento2.txt\n"
          ]
        }
      ]
    },
    {
      "cell_type": "code",
      "source": [
        "from Bio.Align.Applications import MuscleCommandline\n",
        ">>> cline = MuscleCommandline(input=\"/content/drive/MyDrive/BIMI306/Alineamiento/Alineamiento.fasta\", out=\"/content/drive/MyDrive/BIMI306/Alineamiento/Alineamiento.aln\", clw=True)\n",
        ">>> print(cline)"
      ],
      "metadata": {
        "colab": {
          "base_uri": "https://localhost:8080/"
        },
        "id": "dxBg5ddR30HL",
        "outputId": "ad66da0b-7777-49ac-bd70-6e282b0f7c49"
      },
      "execution_count": 66,
      "outputs": [
        {
          "output_type": "stream",
          "name": "stdout",
          "text": [
            "muscle -in /content/drive/MyDrive/BIMI306/Alineamiento/Alineamiento.fasta -out /content/drive/MyDrive/BIMI306/Alineamiento/Alineamiento.aln -clw\n"
          ]
        }
      ]
    },
    {
      "cell_type": "code",
      "source": [
        "from Bio.Align.Applications import MuscleCommandline\n",
        ">>> cline = MuscleCommandline(input=\"opuntia.fasta\", out=\"opuntia.aln\", clw=True)\n",
        ">>> print(cline)"
      ],
      "metadata": {
        "colab": {
          "base_uri": "https://localhost:8080/"
        },
        "id": "W6W7B-xV37wE",
        "outputId": "b2741a86-eb25-484d-e805-e361161d7e0c"
      },
      "execution_count": null,
      "outputs": [
        {
          "output_type": "stream",
          "name": "stdout",
          "text": [
            "muscle -in opuntia.fasta -out opuntia.aln -clw\n"
          ]
        }
      ]
    },
    {
      "cell_type": "code",
      "source": [
        ">>> from Bio.Align.Applications import MuscleCommandline\n",
        ">>> muscle_cline = MuscleCommandline(input=\"opuntia.fasta\")\n",
        ">>> print(muscle_cline)"
      ],
      "metadata": {
        "colab": {
          "base_uri": "https://localhost:8080/"
        },
        "id": "gOfQsZ0W4566",
        "outputId": "bc890a1f-7f81-48c3-c4a2-a06a7c73ad1c"
      },
      "execution_count": null,
      "outputs": [
        {
          "output_type": "stream",
          "name": "stdout",
          "text": [
            "muscle -in opuntia.fasta\n"
          ]
        }
      ]
    },
    {
      "cell_type": "code",
      "source": [
        "from Bio.Align.Applications import MuscleCommandline\n",
        ">>> muscle_cline = MuscleCommandline(input=\"/content/drive/MyDrive/BIMI306/Alineamiento/Alineamiento.fasta\")\n",
        ">>> stdout, stderr = muscle_cline()\n",
        ">>> from io import StringIO\n",
        ">>> from Bio import AlignIO\n",
        ">>> align = AlignIO.read(StringIO(stdout), \"fasta\")\n",
        ">>> print(align)"
      ],
      "metadata": {
        "colab": {
          "base_uri": "https://localhost:8080/",
          "height": 419
        },
        "id": "e484c4_i47pI",
        "outputId": "3c2d8943-ca97-4029-f601-6cd3105d277b"
      },
      "execution_count": null,
      "outputs": [
        {
          "output_type": "error",
          "ename": "ApplicationError",
          "evalue": "ignored",
          "traceback": [
            "\u001b[0;31m---------------------------------------------------------------------------\u001b[0m",
            "\u001b[0;31mApplicationError\u001b[0m                          Traceback (most recent call last)",
            "\u001b[0;32m<ipython-input-26-4a44b23e83b2>\u001b[0m in \u001b[0;36m<cell line: 3>\u001b[0;34m()\u001b[0m\n\u001b[1;32m      1\u001b[0m \u001b[0;32mfrom\u001b[0m \u001b[0mBio\u001b[0m\u001b[0;34m.\u001b[0m\u001b[0mAlign\u001b[0m\u001b[0;34m.\u001b[0m\u001b[0mApplications\u001b[0m \u001b[0;32mimport\u001b[0m \u001b[0mMuscleCommandline\u001b[0m\u001b[0;34m\u001b[0m\u001b[0;34m\u001b[0m\u001b[0m\n\u001b[1;32m      2\u001b[0m \u001b[0mmuscle_cline\u001b[0m \u001b[0;34m=\u001b[0m \u001b[0mMuscleCommandline\u001b[0m\u001b[0;34m(\u001b[0m\u001b[0minput\u001b[0m\u001b[0;34m=\u001b[0m\u001b[0;34m\"/content/drive/MyDrive/BIMI306/Alineamiento/Alineamiento.fasta\"\u001b[0m\u001b[0;34m)\u001b[0m\u001b[0;34m\u001b[0m\u001b[0;34m\u001b[0m\u001b[0m\n\u001b[0;32m----> 3\u001b[0;31m \u001b[0mstdout\u001b[0m\u001b[0;34m,\u001b[0m \u001b[0mstderr\u001b[0m \u001b[0;34m=\u001b[0m \u001b[0mmuscle_cline\u001b[0m\u001b[0;34m(\u001b[0m\u001b[0;34m)\u001b[0m\u001b[0;34m\u001b[0m\u001b[0;34m\u001b[0m\u001b[0m\n\u001b[0m\u001b[1;32m      4\u001b[0m \u001b[0;32mfrom\u001b[0m \u001b[0mio\u001b[0m \u001b[0;32mimport\u001b[0m \u001b[0mStringIO\u001b[0m\u001b[0;34m\u001b[0m\u001b[0;34m\u001b[0m\u001b[0m\n\u001b[1;32m      5\u001b[0m \u001b[0;32mfrom\u001b[0m \u001b[0mBio\u001b[0m \u001b[0;32mimport\u001b[0m \u001b[0mAlignIO\u001b[0m\u001b[0;34m\u001b[0m\u001b[0;34m\u001b[0m\u001b[0m\n",
            "\u001b[0;32m/usr/local/lib/python3.10/dist-packages/Bio/Application/__init__.py\u001b[0m in \u001b[0;36m__call__\u001b[0;34m(self, stdin, stdout, stderr, cwd, env)\u001b[0m\n\u001b[1;32m    567\u001b[0m \u001b[0;34m\u001b[0m\u001b[0m\n\u001b[1;32m    568\u001b[0m         \u001b[0;32mif\u001b[0m \u001b[0mreturn_code\u001b[0m\u001b[0;34m:\u001b[0m\u001b[0;34m\u001b[0m\u001b[0;34m\u001b[0m\u001b[0m\n\u001b[0;32m--> 569\u001b[0;31m             \u001b[0;32mraise\u001b[0m \u001b[0mApplicationError\u001b[0m\u001b[0;34m(\u001b[0m\u001b[0mreturn_code\u001b[0m\u001b[0;34m,\u001b[0m \u001b[0mstr\u001b[0m\u001b[0;34m(\u001b[0m\u001b[0mself\u001b[0m\u001b[0;34m)\u001b[0m\u001b[0;34m,\u001b[0m \u001b[0mstdout_str\u001b[0m\u001b[0;34m,\u001b[0m \u001b[0mstderr_str\u001b[0m\u001b[0;34m)\u001b[0m\u001b[0;34m\u001b[0m\u001b[0;34m\u001b[0m\u001b[0m\n\u001b[0m\u001b[1;32m    570\u001b[0m         \u001b[0;32mreturn\u001b[0m \u001b[0mstdout_str\u001b[0m\u001b[0;34m,\u001b[0m \u001b[0mstderr_str\u001b[0m\u001b[0;34m\u001b[0m\u001b[0;34m\u001b[0m\u001b[0m\n\u001b[1;32m    571\u001b[0m \u001b[0;34m\u001b[0m\u001b[0m\n",
            "\u001b[0;31mApplicationError\u001b[0m: Non-zero return code 127 from 'muscle -in /content/drive/MyDrive/BIMI306/Alineamiento/Alineamiento.fasta', message '/bin/sh: 1: muscle: not found'"
          ]
        }
      ]
    }
  ]
}